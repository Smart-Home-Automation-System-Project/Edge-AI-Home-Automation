{
 "cells": [
  {
   "metadata": {
    "collapsed": true,
    "ExecuteTime": {
     "end_time": "2025-04-20T09:05:18.866582Z",
     "start_time": "2025-04-20T09:05:18.846553Z"
    }
   },
   "cell_type": "code",
   "source": [
    "import sqlite3\n",
    "import pandas as pd\n",
    "\n",
    "# Connect to the SQLite database\n",
    "conn = sqlite3.connect('database1.db')\n",
    "\n",
    "# Query all rows from the sensor_data table and load them into a Pandas DataFrame\n",
    "df = pd.read_sql_query('SELECT * FROM sensor_data', conn)\n",
    "\n",
    "df  # This will display the DataFrame in a tabular format in Jupyter notebook\n"
   ],
   "id": "initial_id",
   "outputs": [
    {
     "data": {
      "text/plain": [
       "     sensor_id            timestamp name  sensor_value\n",
       "0          101  2025-04-20 14:00:00   l1          0.00\n",
       "1          102  2025-04-20 14:00:00   l2          1.00\n",
       "2          103  2025-04-20 14:00:00   l3          0.00\n",
       "3          104  2025-04-20 14:00:00   t1         23.51\n",
       "4          105  2025-04-20 14:00:00   t2         14.14\n",
       "...        ...                  ...  ...           ...\n",
       "4027       102  2025-04-13 14:15:00   l2          1.00\n",
       "4028       103  2025-04-13 14:15:00   l3          0.00\n",
       "4029       104  2025-04-13 14:15:00   t1         22.73\n",
       "4030       105  2025-04-13 14:15:00   t2         29.72\n",
       "4031       106  2025-04-13 14:15:00   t3         29.44\n",
       "\n",
       "[4032 rows x 4 columns]"
      ],
      "text/html": [
       "<div>\n",
       "<style scoped>\n",
       "    .dataframe tbody tr th:only-of-type {\n",
       "        vertical-align: middle;\n",
       "    }\n",
       "\n",
       "    .dataframe tbody tr th {\n",
       "        vertical-align: top;\n",
       "    }\n",
       "\n",
       "    .dataframe thead th {\n",
       "        text-align: right;\n",
       "    }\n",
       "</style>\n",
       "<table border=\"1\" class=\"dataframe\">\n",
       "  <thead>\n",
       "    <tr style=\"text-align: right;\">\n",
       "      <th></th>\n",
       "      <th>sensor_id</th>\n",
       "      <th>timestamp</th>\n",
       "      <th>name</th>\n",
       "      <th>sensor_value</th>\n",
       "    </tr>\n",
       "  </thead>\n",
       "  <tbody>\n",
       "    <tr>\n",
       "      <th>0</th>\n",
       "      <td>101</td>\n",
       "      <td>2025-04-20 14:00:00</td>\n",
       "      <td>l1</td>\n",
       "      <td>0.00</td>\n",
       "    </tr>\n",
       "    <tr>\n",
       "      <th>1</th>\n",
       "      <td>102</td>\n",
       "      <td>2025-04-20 14:00:00</td>\n",
       "      <td>l2</td>\n",
       "      <td>1.00</td>\n",
       "    </tr>\n",
       "    <tr>\n",
       "      <th>2</th>\n",
       "      <td>103</td>\n",
       "      <td>2025-04-20 14:00:00</td>\n",
       "      <td>l3</td>\n",
       "      <td>0.00</td>\n",
       "    </tr>\n",
       "    <tr>\n",
       "      <th>3</th>\n",
       "      <td>104</td>\n",
       "      <td>2025-04-20 14:00:00</td>\n",
       "      <td>t1</td>\n",
       "      <td>23.51</td>\n",
       "    </tr>\n",
       "    <tr>\n",
       "      <th>4</th>\n",
       "      <td>105</td>\n",
       "      <td>2025-04-20 14:00:00</td>\n",
       "      <td>t2</td>\n",
       "      <td>14.14</td>\n",
       "    </tr>\n",
       "    <tr>\n",
       "      <th>...</th>\n",
       "      <td>...</td>\n",
       "      <td>...</td>\n",
       "      <td>...</td>\n",
       "      <td>...</td>\n",
       "    </tr>\n",
       "    <tr>\n",
       "      <th>4027</th>\n",
       "      <td>102</td>\n",
       "      <td>2025-04-13 14:15:00</td>\n",
       "      <td>l2</td>\n",
       "      <td>1.00</td>\n",
       "    </tr>\n",
       "    <tr>\n",
       "      <th>4028</th>\n",
       "      <td>103</td>\n",
       "      <td>2025-04-13 14:15:00</td>\n",
       "      <td>l3</td>\n",
       "      <td>0.00</td>\n",
       "    </tr>\n",
       "    <tr>\n",
       "      <th>4029</th>\n",
       "      <td>104</td>\n",
       "      <td>2025-04-13 14:15:00</td>\n",
       "      <td>t1</td>\n",
       "      <td>22.73</td>\n",
       "    </tr>\n",
       "    <tr>\n",
       "      <th>4030</th>\n",
       "      <td>105</td>\n",
       "      <td>2025-04-13 14:15:00</td>\n",
       "      <td>t2</td>\n",
       "      <td>29.72</td>\n",
       "    </tr>\n",
       "    <tr>\n",
       "      <th>4031</th>\n",
       "      <td>106</td>\n",
       "      <td>2025-04-13 14:15:00</td>\n",
       "      <td>t3</td>\n",
       "      <td>29.44</td>\n",
       "    </tr>\n",
       "  </tbody>\n",
       "</table>\n",
       "<p>4032 rows × 4 columns</p>\n",
       "</div>"
      ]
     },
     "execution_count": 3,
     "metadata": {},
     "output_type": "execute_result"
    }
   ],
   "execution_count": 3
  },
  {
   "metadata": {
    "ExecuteTime": {
     "end_time": "2025-04-09T20:44:15.064077Z",
     "start_time": "2025-04-09T20:44:15.052010Z"
    }
   },
   "cell_type": "code",
   "source": [
    "# Close the connection\n",
    "conn.close()"
   ],
   "id": "621dbc64196f1715",
   "outputs": [],
   "execution_count": 14
  }
 ],
 "metadata": {
  "kernelspec": {
   "display_name": "Python 3",
   "language": "python",
   "name": "python3"
  },
  "language_info": {
   "codemirror_mode": {
    "name": "ipython",
    "version": 2
   },
   "file_extension": ".py",
   "mimetype": "text/x-python",
   "name": "python",
   "nbconvert_exporter": "python",
   "pygments_lexer": "ipython2",
   "version": "2.7.6"
  }
 },
 "nbformat": 4,
 "nbformat_minor": 5
}
