{
 "cells": [
  {
   "cell_type": "code",
   "execution_count": 1,
   "id": "initial_id",
   "metadata": {
    "ExecuteTime": {
     "end_time": "2025-04-20T11:06:47.003275Z",
     "start_time": "2025-04-20T11:06:46.999463Z"
    },
    "collapsed": true
   },
   "outputs": [
    {
     "data": {
      "text/html": [
       "<div>\n",
       "<style scoped>\n",
       "    .dataframe tbody tr th:only-of-type {\n",
       "        vertical-align: middle;\n",
       "    }\n",
       "\n",
       "    .dataframe tbody tr th {\n",
       "        vertical-align: top;\n",
       "    }\n",
       "\n",
       "    .dataframe thead th {\n",
       "        text-align: right;\n",
       "    }\n",
       "</style>\n",
       "<table border=\"1\" class=\"dataframe\">\n",
       "  <thead>\n",
       "    <tr style=\"text-align: right;\">\n",
       "      <th></th>\n",
       "      <th>sensor_id</th>\n",
       "      <th>timestamp</th>\n",
       "      <th>sensor_value</th>\n",
       "    </tr>\n",
       "  </thead>\n",
       "  <tbody>\n",
       "    <tr>\n",
       "      <th>0</th>\n",
       "      <td>101</td>\n",
       "      <td>2025-04-20 16:00:00</td>\n",
       "      <td>0.00</td>\n",
       "    </tr>\n",
       "    <tr>\n",
       "      <th>1</th>\n",
       "      <td>102</td>\n",
       "      <td>2025-04-20 16:00:00</td>\n",
       "      <td>1.00</td>\n",
       "    </tr>\n",
       "    <tr>\n",
       "      <th>2</th>\n",
       "      <td>103</td>\n",
       "      <td>2025-04-20 16:00:00</td>\n",
       "      <td>0.00</td>\n",
       "    </tr>\n",
       "    <tr>\n",
       "      <th>3</th>\n",
       "      <td>104</td>\n",
       "      <td>2025-04-20 16:00:00</td>\n",
       "      <td>35.68</td>\n",
       "    </tr>\n",
       "    <tr>\n",
       "      <th>4</th>\n",
       "      <td>105</td>\n",
       "      <td>2025-04-20 16:00:00</td>\n",
       "      <td>36.42</td>\n",
       "    </tr>\n",
       "    <tr>\n",
       "      <th>...</th>\n",
       "      <td>...</td>\n",
       "      <td>...</td>\n",
       "      <td>...</td>\n",
       "    </tr>\n",
       "    <tr>\n",
       "      <th>4027</th>\n",
       "      <td>102</td>\n",
       "      <td>2025-04-13 16:15:00</td>\n",
       "      <td>0.00</td>\n",
       "    </tr>\n",
       "    <tr>\n",
       "      <th>4028</th>\n",
       "      <td>103</td>\n",
       "      <td>2025-04-13 16:15:00</td>\n",
       "      <td>0.00</td>\n",
       "    </tr>\n",
       "    <tr>\n",
       "      <th>4029</th>\n",
       "      <td>104</td>\n",
       "      <td>2025-04-13 16:15:00</td>\n",
       "      <td>27.24</td>\n",
       "    </tr>\n",
       "    <tr>\n",
       "      <th>4030</th>\n",
       "      <td>105</td>\n",
       "      <td>2025-04-13 16:15:00</td>\n",
       "      <td>24.64</td>\n",
       "    </tr>\n",
       "    <tr>\n",
       "      <th>4031</th>\n",
       "      <td>106</td>\n",
       "      <td>2025-04-13 16:15:00</td>\n",
       "      <td>31.43</td>\n",
       "    </tr>\n",
       "  </tbody>\n",
       "</table>\n",
       "<p>4032 rows × 3 columns</p>\n",
       "</div>"
      ],
      "text/plain": [
       "     sensor_id            timestamp  sensor_value\n",
       "0          101  2025-04-20 16:00:00          0.00\n",
       "1          102  2025-04-20 16:00:00          1.00\n",
       "2          103  2025-04-20 16:00:00          0.00\n",
       "3          104  2025-04-20 16:00:00         35.68\n",
       "4          105  2025-04-20 16:00:00         36.42\n",
       "...        ...                  ...           ...\n",
       "4027       102  2025-04-13 16:15:00          0.00\n",
       "4028       103  2025-04-13 16:15:00          0.00\n",
       "4029       104  2025-04-13 16:15:00         27.24\n",
       "4030       105  2025-04-13 16:15:00         24.64\n",
       "4031       106  2025-04-13 16:15:00         31.43\n",
       "\n",
       "[4032 rows x 3 columns]"
      ]
     },
     "execution_count": 1,
     "metadata": {},
     "output_type": "execute_result"
    }
   ],
   "source": [
    "import sqlite3\n",
    "import pandas as pd\n",
    "\n",
    "# Connect to the SQLite database\n",
    "conn = sqlite3.connect('database1.db')\n",
    "\n",
    "# Query all rows from the sensor_data table and load them into a Pandas DataFrame\n",
    "df = pd.read_sql_query('SELECT * FROM sensor_data', conn)\n",
    "\n",
    "df  # This will display the DataFrame in a tabular format in Jupyter notebook\n"
   ]
  },
  {
   "cell_type": "code",
   "execution_count": 2,
   "id": "621dbc64196f1715",
   "metadata": {
    "ExecuteTime": {
     "end_time": "2025-04-09T20:44:15.064077Z",
     "start_time": "2025-04-09T20:44:15.052010Z"
    }
   },
   "outputs": [],
   "source": [
    "# Close the connection\n",
    "conn.close()"
   ]
  }
 ],
 "metadata": {
  "kernelspec": {
   "display_name": "venv",
   "language": "python",
   "name": "python3"
  },
  "language_info": {
   "codemirror_mode": {
    "name": "ipython",
    "version": 3
   },
   "file_extension": ".py",
   "mimetype": "text/x-python",
   "name": "python",
   "nbconvert_exporter": "python",
   "pygments_lexer": "ipython3",
   "version": "3.12.3"
  }
 },
 "nbformat": 4,
 "nbformat_minor": 5
}
