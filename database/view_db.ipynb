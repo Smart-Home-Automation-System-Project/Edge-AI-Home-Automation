{
 "cells": [
  {
   "metadata": {
    "collapsed": true,
    "ExecuteTime": {
     "end_time": "2025-04-20T10:31:55.176557Z",
     "start_time": "2025-04-20T10:31:55.172538Z"
    }
   },
   "cell_type": "code",
   "source": [
    "import sqlite3\n",
    "import pandas as pd\n",
    "\n",
    "# Connect to the SQLite database\n",
    "conn = sqlite3.connect('database1.db')\n",
    "\n",
    "# Query all rows from the sensor_data table and load them into a Pandas DataFrame\n",
    "df = pd.read_sql_query('SELECT * FROM sensor_data', conn)\n",
    "\n",
    "df  # This will display the DataFrame in a tabular format in Jupyter notebook\n"
   ],
   "id": "initial_id",
   "outputs": [],
   "execution_count": null
  },
  {
   "metadata": {
    "ExecuteTime": {
     "end_time": "2025-04-09T20:44:15.064077Z",
     "start_time": "2025-04-09T20:44:15.052010Z"
    }
   },
   "cell_type": "code",
   "source": [
    "# Close the connection\n",
    "conn.close()"
   ],
   "id": "621dbc64196f1715",
   "outputs": [],
   "execution_count": 14
  }
 ],
 "metadata": {
  "kernelspec": {
   "display_name": "Python 3",
   "language": "python",
   "name": "python3"
  },
  "language_info": {
   "codemirror_mode": {
    "name": "ipython",
    "version": 2
   },
   "file_extension": ".py",
   "mimetype": "text/x-python",
   "name": "python",
   "nbconvert_exporter": "python",
   "pygments_lexer": "ipython2",
   "version": "2.7.6"
  }
 },
 "nbformat": 4,
 "nbformat_minor": 5
}
