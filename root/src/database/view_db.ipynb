{
 "cells": [
  {
   "cell_type": "code",
   "id": "initial_id",
   "metadata": {
    "collapsed": true,
    "ExecuteTime": {
     "end_time": "2025-05-03T13:01:18.915151Z",
     "start_time": "2025-05-03T13:01:18.890959Z"
    }
   },
   "source": [
    "import sqlite3\n",
    "import pandas as pd\n",
    "\n",
    "# Connect to the SQLite database\n",
    "conn = sqlite3.connect('database.db')\n",
    "\n",
    "# Query all rows from the sensor_data table and load them into a Pandas DataFrame\n",
    "df_sensor_data = pd.read_sql_query('SELECT * FROM sensor_data', conn)\n",
    "\n",
    "df_sensor_data  # This will display the DataFrame in a tabular format in Jupyter notebook\n"
   ],
   "outputs": [
    {
     "data": {
      "text/plain": [
       "Empty DataFrame\n",
       "Columns: [timestamp, day_of_week, hour, l1, l2, l3, t1, t2, t3]\n",
       "Index: []"
      ],
      "text/html": [
       "<div>\n",
       "<style scoped>\n",
       "    .dataframe tbody tr th:only-of-type {\n",
       "        vertical-align: middle;\n",
       "    }\n",
       "\n",
       "    .dataframe tbody tr th {\n",
       "        vertical-align: top;\n",
       "    }\n",
       "\n",
       "    .dataframe thead th {\n",
       "        text-align: right;\n",
       "    }\n",
       "</style>\n",
       "<table border=\"1\" class=\"dataframe\">\n",
       "  <thead>\n",
       "    <tr style=\"text-align: right;\">\n",
       "      <th></th>\n",
       "      <th>timestamp</th>\n",
       "      <th>day_of_week</th>\n",
       "      <th>hour</th>\n",
       "      <th>l1</th>\n",
       "      <th>l2</th>\n",
       "      <th>l3</th>\n",
       "      <th>t1</th>\n",
       "      <th>t2</th>\n",
       "      <th>t3</th>\n",
       "    </tr>\n",
       "  </thead>\n",
       "  <tbody>\n",
       "  </tbody>\n",
       "</table>\n",
       "</div>"
      ]
     },
     "execution_count": 8,
     "metadata": {},
     "output_type": "execute_result"
    }
   ],
   "execution_count": 8
  },
  {
   "metadata": {
    "ExecuteTime": {
     "end_time": "2025-05-03T13:01:18.986241Z",
     "start_time": "2025-05-03T13:01:18.970553Z"
    }
   },
   "cell_type": "code",
   "source": [
    "# Query all rows from the sensors table and load them into a Pandas DataFrame\n",
    "df_sensor = pd.read_sql_query('SELECT * FROM sensors', conn)\n",
    "df_sensor"
   ],
   "id": "e192c137c1ddde98",
   "outputs": [
    {
     "data": {
      "text/plain": [
       "                                     id                 client_id  \\\n",
       "0  2a01b913-ba0d-47ff-879a-94ce3ec6d11a   S-2025.04.19-21.09-0001   \n",
       "1  7dbc772a-8e68-4c60-90f0-ddf4a8e73786   L-2025.04.19-21.09-0003   \n",
       "2  09836319-246f-4642-972c-5bd354843fec   D-2025.04.19-21.09-0003   \n",
       "3  1e0d3a81-3025-4d5c-90df-152ce5b3862c  SW-2025.04.19-21.09-0001   \n",
       "\n",
       "                    name catagory last_val  \n",
       "0  LivingRoom Thermostat   sensor      100  \n",
       "1          LivingRoom L1    light        0  \n",
       "2              Font Door     door        1  \n",
       "3          LivingRoom TV   switch        0  "
      ],
      "text/html": [
       "<div>\n",
       "<style scoped>\n",
       "    .dataframe tbody tr th:only-of-type {\n",
       "        vertical-align: middle;\n",
       "    }\n",
       "\n",
       "    .dataframe tbody tr th {\n",
       "        vertical-align: top;\n",
       "    }\n",
       "\n",
       "    .dataframe thead th {\n",
       "        text-align: right;\n",
       "    }\n",
       "</style>\n",
       "<table border=\"1\" class=\"dataframe\">\n",
       "  <thead>\n",
       "    <tr style=\"text-align: right;\">\n",
       "      <th></th>\n",
       "      <th>id</th>\n",
       "      <th>client_id</th>\n",
       "      <th>name</th>\n",
       "      <th>catagory</th>\n",
       "      <th>last_val</th>\n",
       "    </tr>\n",
       "  </thead>\n",
       "  <tbody>\n",
       "    <tr>\n",
       "      <th>0</th>\n",
       "      <td>2a01b913-ba0d-47ff-879a-94ce3ec6d11a</td>\n",
       "      <td>S-2025.04.19-21.09-0001</td>\n",
       "      <td>LivingRoom Thermostat</td>\n",
       "      <td>sensor</td>\n",
       "      <td>100</td>\n",
       "    </tr>\n",
       "    <tr>\n",
       "      <th>1</th>\n",
       "      <td>7dbc772a-8e68-4c60-90f0-ddf4a8e73786</td>\n",
       "      <td>L-2025.04.19-21.09-0003</td>\n",
       "      <td>LivingRoom L1</td>\n",
       "      <td>light</td>\n",
       "      <td>0</td>\n",
       "    </tr>\n",
       "    <tr>\n",
       "      <th>2</th>\n",
       "      <td>09836319-246f-4642-972c-5bd354843fec</td>\n",
       "      <td>D-2025.04.19-21.09-0003</td>\n",
       "      <td>Font Door</td>\n",
       "      <td>door</td>\n",
       "      <td>1</td>\n",
       "    </tr>\n",
       "    <tr>\n",
       "      <th>3</th>\n",
       "      <td>1e0d3a81-3025-4d5c-90df-152ce5b3862c</td>\n",
       "      <td>SW-2025.04.19-21.09-0001</td>\n",
       "      <td>LivingRoom TV</td>\n",
       "      <td>switch</td>\n",
       "      <td>0</td>\n",
       "    </tr>\n",
       "  </tbody>\n",
       "</table>\n",
       "</div>"
      ]
     },
     "execution_count": 9,
     "metadata": {},
     "output_type": "execute_result"
    }
   ],
   "execution_count": 9
  },
  {
   "metadata": {
    "ExecuteTime": {
     "end_time": "2025-05-03T13:01:19.110935Z",
     "start_time": "2025-05-03T13:01:19.101868Z"
    }
   },
   "cell_type": "code",
   "source": "df_sensor.columns",
   "id": "30256d91ef029689",
   "outputs": [
    {
     "data": {
      "text/plain": [
       "Index(['id', 'client_id', 'name', 'catagory', 'last_val'], dtype='object')"
      ]
     },
     "execution_count": 10,
     "metadata": {},
     "output_type": "execute_result"
    }
   ],
   "execution_count": 10
  },
  {
   "cell_type": "code",
   "id": "621dbc64196f1715",
   "metadata": {
    "ExecuteTime": {
     "end_time": "2025-05-03T13:01:19.532005Z",
     "start_time": "2025-05-03T13:01:19.524988Z"
    }
   },
   "source": [
    "# Close the connection\n",
    "conn.close()"
   ],
   "outputs": [],
   "execution_count": 11
  }
 ],
 "metadata": {
  "kernelspec": {
   "display_name": "venv",
   "language": "python",
   "name": "python3"
  },
  "language_info": {
   "codemirror_mode": {
    "name": "ipython",
    "version": 3
   },
   "file_extension": ".py",
   "mimetype": "text/x-python",
   "name": "python",
   "nbconvert_exporter": "python",
   "pygments_lexer": "ipython3",
   "version": "3.12.3"
  }
 },
 "nbformat": 4,
 "nbformat_minor": 5
}
